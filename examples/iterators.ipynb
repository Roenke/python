{
 "metadata": {
  "name": ""
 },
 "nbformat": 3,
 "nbformat_minor": 0,
 "worksheets": [
  {
   "cells": [
    {
     "cell_type": "code",
     "collapsed": false,
     "input": [
      "d = {1:2, 2:3, 3:4}\n",
      "i = iter(d)\n",
      "print(next(i), next(i), next(i))\n"
     ],
     "language": "python",
     "metadata": {},
     "outputs": [
      {
       "output_type": "stream",
       "stream": "stdout",
       "text": [
        "1 2 3\n"
       ]
      }
     ],
     "prompt_number": 5
    },
    {
     "cell_type": "code",
     "collapsed": false,
     "input": [
      "next(i)"
     ],
     "language": "python",
     "metadata": {},
     "outputs": [
      {
       "ename": "StopIteration",
       "evalue": "",
       "output_type": "pyerr",
       "traceback": [
        "\u001b[0;31m---------------------------------------------------------------------------\u001b[0m\n\u001b[0;31mStopIteration\u001b[0m                             Traceback (most recent call last)",
        "\u001b[0;32m<ipython-input-6-bed2471d02c1>\u001b[0m in \u001b[0;36m<module>\u001b[0;34m()\u001b[0m\n\u001b[0;32m----> 1\u001b[0;31m \u001b[0mnext\u001b[0m\u001b[0;34m(\u001b[0m\u001b[0mi\u001b[0m\u001b[0;34m)\u001b[0m\u001b[0;34m\u001b[0m\u001b[0m\n\u001b[0m",
        "\u001b[0;31mStopIteration\u001b[0m: "
       ]
      }
     ],
     "prompt_number": 6
    },
    {
     "cell_type": "code",
     "collapsed": false,
     "input": [
      "class counter:\n",
      "    def __init__(self, maximum):\n",
      "        self.counter = 10\n",
      "        self.maximum = maximum\n",
      "    \n",
      "    def __iter__(self):\n",
      "        return self\n",
      "    \n",
      "    def __next__(self):\n",
      "        self.counter += 1\n",
      "        if self.counter <= self.maximum:\n",
      "            return self.counter\n",
      "        raise StopIteration()\n",
      "        \n",
      "my_counter = counter(23)\n",
      "for i in my_counter:\n",
      "    print(i, end=\" \")"
     ],
     "language": "python",
     "metadata": {},
     "outputs": [
      {
       "output_type": "stream",
       "stream": "stdout",
       "text": [
        "11 12 13 14 15 16 17 18 19 20 21 22 23 "
       ]
      }
     ],
     "prompt_number": 11
    },
    {
     "cell_type": "code",
     "collapsed": false,
     "input": [
      "class counter:\n",
      "    def __init__(self, maximum):\n",
      "        self.counter = 10\n",
      "        self.maximum = maximum\n",
      "    \n",
      "    def send(self, to):\n",
      "        self.counter = to\n",
      "    \n",
      "    def __iter__(self):\n",
      "        return self\n",
      "    \n",
      "    def __next__(self):\n",
      "        self.counter += 1\n",
      "        if self.counter <= self.maximum:\n",
      "            return self.counter\n",
      "        raise StopIteration()\n",
      "\n",
      "my_counter = counter(50)\n",
      "print(next(my_counter))\n",
      "my_counter.send(38)\n",
      "for i in my_counter:\n",
      "    print(i, end=\"|\")"
     ],
     "language": "python",
     "metadata": {},
     "outputs": [
      {
       "output_type": "stream",
       "stream": "stdout",
       "text": [
        "11\n",
        "39|40|41|42|43|44|45|46|47|48|49|50|"
       ]
      }
     ],
     "prompt_number": 15
    },
    {
     "cell_type": "markdown",
     "metadata": {},
     "source": [
      "# List comprehensions\n"
     ]
    },
    {
     "cell_type": "code",
     "collapsed": false,
     "input": [
      "[x**2 for x in range(12)]"
     ],
     "language": "python",
     "metadata": {},
     "outputs": [
      {
       "metadata": {},
       "output_type": "pyout",
       "prompt_number": 19,
       "text": [
        "[0, 1, 4, 9, 16, 25, 36, 49, 64, 81, 100, 121]"
       ]
      }
     ],
     "prompt_number": 19
    },
    {
     "cell_type": "code",
     "collapsed": false,
     "input": [
      "# \u0421\u043d\u0430\u0447\u0430\u043b\u0430 x, \u043f\u043e\u0442\u043e\u043c y\n",
      "[x + y for x in range(1,5) for y in range(12,15)]"
     ],
     "language": "python",
     "metadata": {},
     "outputs": [
      {
       "metadata": {},
       "output_type": "pyout",
       "prompt_number": 20,
       "text": [
        "[13, 14, 15, 14, 15, 16, 15, 16, 17, 16, 17, 18]"
       ]
      }
     ],
     "prompt_number": 20
    },
    {
     "cell_type": "code",
     "collapsed": false,
     "input": [
      "# \u041c\u043e\u0436\u043d\u043e \u0433\u0435\u043d\u0435\u0440\u0438\u0442\u044c \u0441\u043f\u0438\u0441\u043e\u043a \u0441\u043f\u0438\u0441\u043a\u043e\u0432\n",
      "[[x for x in range(22, y + 2)] for y in range(23,26)]"
     ],
     "language": "python",
     "metadata": {},
     "outputs": [
      {
       "metadata": {},
       "output_type": "pyout",
       "prompt_number": 23,
       "text": [
        "[[22, 23, 24], [22, 23, 24, 25], [22, 23, 24, 25, 26]]"
       ]
      }
     ],
     "prompt_number": 23
    },
    {
     "cell_type": "markdown",
     "metadata": {},
     "source": [
      "### \u041d\u0435\u0434\u043e\u0441\u0442\u0430\u0442\u043a\u0438:\n",
      "- \u0440\u0430\u0441\u0445\u043e\u0434\u0443\u044e\u0442 \u043f\u0430\u043c\u044f\u0442\u044c\n",
      "- \u0432\u0441\u0435\u0433\u0434\u0430 \u043a\u043e\u043d\u0435\u0447\u043d\u044b"
     ]
    },
    {
     "cell_type": "markdown",
     "metadata": {},
     "source": [
      "# \u0413\u0435\u043d\u0435\u0440\u0430\u0442\u043e\u0440\u043d\u044b\u0435 \u0432\u044b\u0440\u0430\u0436\u0435\u043d\u0438\u044f"
     ]
    },
    {
     "cell_type": "code",
     "collapsed": false,
     "input": [
      "gen = (x**2 for x in range(100000000000000000)) # lazy evals\n",
      "print(next(gen))"
     ],
     "language": "python",
     "metadata": {},
     "outputs": [
      {
       "output_type": "stream",
       "stream": "stdout",
       "text": [
        "0\n"
       ]
      }
     ],
     "prompt_number": 24
    },
    {
     "cell_type": "markdown",
     "metadata": {},
     "source": [
      "# \u0413\u0435\u043d\u0435\u0440\u0430\u0442\u043e\u0440\u044b"
     ]
    },
    {
     "cell_type": "code",
     "collapsed": false,
     "input": [
      "def my_generator():\n",
      "    prev = 1\n",
      "    prevprev = 1\n",
      "    while True:\n",
      "        yield prevprev\n",
      "        prev, prevprev = prev + prevprev, prev\n",
      "        \n",
      "gen = my_generator()\n",
      "for i in range(10):\n",
      "    print(next(gen), end=\" \")"
     ],
     "language": "python",
     "metadata": {},
     "outputs": [
      {
       "output_type": "stream",
       "stream": "stdout",
       "text": [
        "1 1 2 3 5 8 13 21 34 55 "
       ]
      }
     ],
     "prompt_number": 29
    },
    {
     "cell_type": "markdown",
     "metadata": {},
     "source": [
      "# Itertools"
     ]
    },
    {
     "cell_type": "code",
     "collapsed": false,
     "input": [
      "import itertools"
     ],
     "language": "python",
     "metadata": {},
     "outputs": [],
     "prompt_number": 30
    },
    {
     "cell_type": "code",
     "collapsed": false,
     "input": [
      "for i in itertools.accumulate([1,2,0,5,6,6,4,4,5,5,6,7,6,5,4,4,5,6,67]):\n",
      "    print(i, end=' ')"
     ],
     "language": "python",
     "metadata": {},
     "outputs": [
      {
       "output_type": "stream",
       "stream": "stdout",
       "text": [
        "1 3 3 8 14 20 24 28 33 38 44 51 57 62 66 70 75 81 148 "
       ]
      }
     ],
     "prompt_number": 33
    },
    {
     "cell_type": "code",
     "collapsed": false,
     "input": [
      "for i in itertools.chain(range(4), range(5)):\n",
      "    print(i, end=' ')"
     ],
     "language": "python",
     "metadata": {},
     "outputs": [
      {
       "output_type": "stream",
       "stream": "stdout",
       "text": [
        "0 1 2 3 0 1 2 3 4 "
       ]
      }
     ],
     "prompt_number": 34
    },
    {
     "cell_type": "code",
     "collapsed": false,
     "input": [
      "for i in itertools.combinations('qwer', 3):\n",
      "    print(''.join(i), end='|')"
     ],
     "language": "python",
     "metadata": {},
     "outputs": [
      {
       "output_type": "stream",
       "stream": "stdout",
       "text": [
        "qwe|qwr|qer|wer|"
       ]
      }
     ],
     "prompt_number": 38
    },
    {
     "cell_type": "code",
     "collapsed": false,
     "input": [
      "# \u041f\u0435\u0440\u0432\u044b\u043c \u0438\u0437\u043c\u0435\u043d\u044f\u0435\u0442\u0441\u044f \u0441\u0430\u043c\u044b\u0439 \u043f\u0440\u0430\u0432\u044b\u0445 \u044d\u043b\u0435\u043c\u0435\u043d\u0442\n",
      "for i in itertools.product(range(4), range(4), range(7), repeat=1):\n",
      "    print(i, end='|')"
     ],
     "language": "python",
     "metadata": {},
     "outputs": [
      {
       "output_type": "stream",
       "stream": "stdout",
       "text": [
        "(0, 0, 0)|(0, 0, 1)|(0, 0, 2)|(0, 0, 3)|(0, 0, 4)|(0, 0, 5)|(0, 0, 6)|(0, 1, 0)|(0, 1, 1)|(0, 1, 2)|(0, 1, 3)|(0, 1, 4)|(0, 1, 5)|(0, 1, 6)|(0, 2, 0)|(0, 2, 1)|(0, 2, 2)|(0, 2, 3)|(0, 2, 4)|(0, 2, 5)|(0, 2, 6)|(0, 3, 0)|(0, 3, 1)|(0, 3, 2)|(0, 3, 3)|(0, 3, 4)|(0, 3, 5)|(0, 3, 6)|(1, 0, 0)|(1, 0, 1)|(1, 0, 2)|(1, 0, 3)|(1, 0, 4)|(1, 0, 5)|(1, 0, 6)|(1, 1, 0)|(1, 1, 1)|(1, 1, 2)|(1, 1, 3)|(1, 1, 4)|(1, 1, 5)|(1, 1, 6)|(1, 2, 0)|(1, 2, 1)|(1, 2, 2)|(1, 2, 3)|(1, 2, 4)|(1, 2, 5)|(1, 2, 6)|(1, 3, 0)|(1, 3, 1)|(1, 3, 2)|(1, 3, 3)|(1, 3, 4)|(1, 3, 5)|(1, 3, 6)|(2, 0, 0)|(2, 0, 1)|(2, 0, 2)|(2, 0, 3)|(2, 0, 4)|(2, 0, 5)|(2, 0, 6)|(2, 1, 0)|(2, 1, 1)|(2, 1, 2)|(2, 1, 3)|(2, 1, 4)|(2, 1, 5)|(2, 1, 6)|(2, 2, 0)|(2, 2, 1)|(2, 2, 2)|(2, 2, 3)|(2, 2, 4)|(2, 2, 5)|(2, 2, 6)|(2, 3, 0)|(2, 3, 1)|(2, 3, 2)|(2, 3, 3)|(2, 3, 4)|(2, 3, 5)|(2, 3, 6)|(3, 0, 0)|(3, 0, 1)|(3, 0, 2)|(3, 0, 3)|(3, 0, 4)|(3, 0, 5)|(3, 0, 6)|(3, 1, 0)|(3, 1, 1)|(3, 1, 2)|(3, 1, 3)|(3, 1, 4)|(3, 1, 5)|(3, 1, 6)|(3, 2, 0)|(3, 2, 1)|(3, 2, 2)|(3, 2, 3)|(3, 2, 4)|(3, 2, 5)|(3, 2, 6)|(3, 3, 0)|(3, 3, 1)|(3, 3, 2)|(3, 3, 3)|(3, 3, 4)|(3, 3, 5)|(3, 3, 6)|"
       ]
      }
     ],
     "prompt_number": 43
    },
    {
     "cell_type": "code",
     "collapsed": false,
     "input": [],
     "language": "python",
     "metadata": {},
     "outputs": []
    }
   ],
   "metadata": {}
  }
 ]
}