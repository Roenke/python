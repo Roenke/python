{
 "metadata": {
  "name": ""
 },
 "nbformat": 3,
 "nbformat_minor": 0,
 "worksheets": [
  {
   "cells": [
    {
     "cell_type": "markdown",
     "metadata": {},
     "source": [
      "- \u0412 Python \u0432\u0441\u0451 \u044f\u0432\u043b\u044f\u0435\u0442\u0441\u044f \u043e\u0431\u044a\u0435\u043a\u0442\u043e\u043c\n",
      "- \u0412\u0441\u0435 \u043e\u0431\u044a\u0435\u043a\u0442\u044b \u0437\u043d\u0430\u044e\u0442 \u043a \u043a\u0430\u043a\u043e\u043c\u0443 \u0441\u043b\u0430\u0441\u0441\u0443 \u043e\u0442\u043d\u043e\u0441\u044f\u0442\u0441\u044f: __\u0441lass__"
     ]
    },
    {
     "cell_type": "code",
     "collapsed": false,
     "input": [
      "# type \u0438 object\n",
      "print('Object is ', end='')\n",
      "print(object)\n",
      "\n",
      "print('type is ', end='')\n",
      "print(type)\n",
      "\n",
      "print('type of object is ', end='')\n",
      "print(type(object))\n",
      "\n",
      "print('type of type is ', end='')\n",
      "print(type(type))\n",
      "\n",
      "print('class of type is ', end='')\n",
      "print(type.__class__)\n",
      "\n",
      "print('base of object is ', end='')\n",
      "print(object.__bases__)\n",
      "\n",
      "print('bases of type is ', end='')\n",
      "print(type.__bases__)"
     ],
     "language": "python",
     "metadata": {},
     "outputs": [
      {
       "output_type": "stream",
       "stream": "stdout",
       "text": [
        "Object is <class 'object'>\n",
        "type is <class 'type'>\n",
        "type of object is <class 'type'>\n",
        "type of type is <class 'type'>\n",
        "class of type is <class 'type'>\n",
        "base of object is ()\n",
        "bases of type is (<class 'object'>,)\n"
       ]
      }
     ],
     "prompt_number": 8
    },
    {
     "cell_type": "markdown",
     "metadata": {},
     "source": [
      "#### \u0412\u0441\u0435 \u043d\u0430\u0441\u043b\u0435\u0434\u043d\u0438\u043a\u0438 type \u043d\u0430\u0437\u044b\u0432\u0430\u044e\u0442\u0441\u044f \u043c\u0435\u0442\u0430\u043a\u043b\u0430\u0441\u0441\u0430\u043c\u0438"
     ]
    },
    {
     "cell_type": "markdown",
     "metadata": {},
     "source": [
      "### \u0414\u043b\u044f \u043a\u043b\u0430\u0441\u0441\u0430 \u043c\u043e\u0436\u043d\u043e \u044f\u0432\u043d\u043e \u0432\u044b\u0431\u0440\u0430\u0442\u044c \u043c\u0435\u0442\u0430\u043a\u043b\u0430\u0441\u0441"
     ]
    },
    {
     "cell_type": "code",
     "collapsed": false,
     "input": [
      "class my_meta(type):\n",
      "    def __call__(self, *args, **kwargs):\n",
      "        obj = type.__call__(self, *args, **kwargs)\n",
      "        setattr(obj, 'my_new_property', 'new property value')\n",
      "        return obj\n",
      "        \n",
      "class my_class(object, metaclass=my_meta):\n",
      "    def __init__(self):\n",
      "        pass\n",
      "    \n",
      "class alternative_my_class(object):\n",
      "    __metaclass__ = my_meta\n",
      "\n",
      "\n",
      "m = my_class()\n",
      "m2 = alternative_my_class()\n",
      "print(m.my_new_property)\n",
      "print(m2.my_new_property)\n",
      "    \n"
     ],
     "language": "python",
     "metadata": {},
     "outputs": [
      {
       "ename": "AttributeError",
       "evalue": "'alternative_my_class' object has no attribute 'my_new_property'",
       "output_type": "pyerr",
       "traceback": [
        "\u001b[0;31m---------------------------------------------------------------------------\u001b[0m\n\u001b[0;31mAttributeError\u001b[0m                            Traceback (most recent call last)",
        "\u001b[0;32m<ipython-input-16-8160fa062eaf>\u001b[0m in \u001b[0;36m<module>\u001b[0;34m()\u001b[0m\n\u001b[1;32m     16\u001b[0m \u001b[0mm2\u001b[0m \u001b[0;34m=\u001b[0m \u001b[0malternative_my_class\u001b[0m\u001b[0;34m(\u001b[0m\u001b[0;34m)\u001b[0m\u001b[0;34m\u001b[0m\u001b[0m\n\u001b[1;32m     17\u001b[0m \u001b[0mprint\u001b[0m\u001b[0;34m(\u001b[0m\u001b[0mm\u001b[0m\u001b[0;34m.\u001b[0m\u001b[0mmy_new_property\u001b[0m\u001b[0;34m)\u001b[0m\u001b[0;34m\u001b[0m\u001b[0m\n\u001b[0;32m---> 18\u001b[0;31m \u001b[0mprint\u001b[0m\u001b[0;34m(\u001b[0m\u001b[0mm2\u001b[0m\u001b[0;34m.\u001b[0m\u001b[0mmy_new_property\u001b[0m\u001b[0;34m)\u001b[0m\u001b[0;34m\u001b[0m\u001b[0m\n\u001b[0m\u001b[1;32m     19\u001b[0m \u001b[0;34m\u001b[0m\u001b[0m\n",
        "\u001b[0;31mAttributeError\u001b[0m: 'alternative_my_class' object has no attribute 'my_new_property'"
       ]
      },
      {
       "output_type": "stream",
       "stream": "stdout",
       "text": [
        "new property value\n"
       ]
      }
     ],
     "prompt_number": 16
    },
    {
     "cell_type": "markdown",
     "metadata": {},
     "source": [
      "# \u0414\u0435\u043a\u043e\u0440\u0430\u0442\u043e\u0440\u044b (\u0430\u043d\u043d\u043e\u0442\u0430\u0446\u0438\u0438)"
     ]
    },
    {
     "cell_type": "markdown",
     "metadata": {},
     "source": [
      "\u0412 python \u043c\u043e\u0436\u043d\u043e \u043e\u0431\u0435\u0440\u043d\u0443\u0442\u044c \u0444\u0443\u043d\u043a\u0446\u0438\u044e \u0432 \u0434\u0440\u0443\u0433\u0438\u0435 \u0444\u0443\u043d\u043a\u0446\u0438\u0438."
     ]
    },
    {
     "cell_type": "code",
     "collapsed": false,
     "input": [
      "def decorator(fun):\n",
      "    print('I decarator. I call function')\n",
      "    def wrapped():\n",
      "        return fun()\n",
      "    print('Function complete.')\n",
      "    return wrapped\n",
      "\n",
      "@decorator\n",
      "def my_function():\n",
      "    print('I am function my_function')\n",
      "    \n",
      "my_function()"
     ],
     "language": "python",
     "metadata": {},
     "outputs": [
      {
       "output_type": "stream",
       "stream": "stdout",
       "text": [
        "I decarator. I call function\n",
        "Function complete.\n",
        "I am function my_function\n"
       ]
      }
     ],
     "prompt_number": 18
    },
    {
     "cell_type": "markdown",
     "metadata": {},
     "source": [
      "\u042d\u0442\u043e\u0442 \u0441\u0438\u043d\u0442\u0430\u043a\u0441\u0438\u0441 \u044d\u043a\u0432\u0438\u0432\u0430\u043b\u0435\u043d\u0442\u0435\u043d \u0442\u0430\u043a\u043e\u043c\u0443, \u043d\u043e \u0431\u0435\u0437 \u0441\u0438\u043d\u0442\u0430\u043a\u0441\u0438\u0441\u0430 \u0434\u0435\u043a\u043e\u0440\u0430\u0442\u043e\u0440\u0430:"
     ]
    },
    {
     "cell_type": "code",
     "collapsed": false,
     "input": [
      "def decorator(fun):\n",
      "    print('I decarator. I call function')\n",
      "    def wrapped():\n",
      "        return fun()\n",
      "    print('Function complete.')\n",
      "    return wrapped\n",
      "\n",
      "def my_function():\n",
      "    print('I am function my_function')\n",
      "    \n",
      "my_function = decorator(my_function)\n",
      "    \n",
      "my_function()"
     ],
     "language": "python",
     "metadata": {},
     "outputs": [
      {
       "output_type": "stream",
       "stream": "stdout",
       "text": [
        "I decarator. I call function\n",
        "Function complete.\n",
        "I am function my_function\n"
       ]
      }
     ],
     "prompt_number": 19
    },
    {
     "cell_type": "markdown",
     "metadata": {},
     "source": [
      "## \u041f\u0440\u0438 \u043e\u043f\u0440\u0435\u0434\u0435\u043b\u0435\u043d\u0438\u0438 \u0434\u0435\u043a\u043e\u0440\u0430\u0442\u043e\u0440\u0430 \u043d\u0443\u0436\u043d\u043e \u0441\u043e\u0437\u0434\u0430\u0442\u044c \u0442\u0430\u043a \u0436\u0435 \u0444\u0443\u043d\u043a\u0446\u0438\u044e-\u0432\u0440\u0430\u043f\u0435\u0440"
     ]
    },
    {
     "cell_type": "code",
     "collapsed": false,
     "input": [
      "def bread(fun):\n",
      "    def wrapper():\n",
      "        print(' <=========>')\n",
      "        fun()\n",
      "        print('<===========>')\n",
      "    return wrapper\n",
      "\n",
      "def meat(fun):\n",
      "    def wrapper():\n",
      "        print('<<<\u043c\u044f\u0441\u043e>>>')\n",
      "        fun()\n",
      "    return wrapper\n",
      "\n",
      "def chease(fun):\n",
      "    def wrapper():\n",
      "        print('---\u0441\u044b\u0440---')\n",
      "        fun()\n",
      "    return wrapper\n",
      "\n",
      "def sandwich():\n",
      "    print('###souce###')\n",
      "\n",
      "sandwich = bread(meat(chease(sandwich)))\n",
      "\n",
      "sandwich()"
     ],
     "language": "python",
     "metadata": {},
     "outputs": [
      {
       "output_type": "stream",
       "stream": "stdout",
       "text": [
        " <=========>\n",
        "<<<\u043c\u044f\u0441\u043e>>>\n",
        "---\u0441\u044b\u0440---\n",
        "###souce###\n",
        "<===========>\n"
       ]
      }
     ],
     "prompt_number": 25
    },
    {
     "cell_type": "code",
     "collapsed": false,
     "input": [
      "def bread(fun):\n",
      "    def wrapper():\n",
      "        print(' <=========>')\n",
      "        fun()\n",
      "        print('<===========>')\n",
      "    return wrapper\n",
      "\n",
      "def meat(fun):\n",
      "    def wrapper():\n",
      "        print('<<<\u043c\u044f\u0441\u043e>>>')\n",
      "        fun()\n",
      "    return wrapper\n",
      "\n",
      "def chease(fun):\n",
      "    def wrapper():\n",
      "        print('---\u0441\u044b\u0440---')\n",
      "        fun()\n",
      "    return wrapper\n",
      "\n",
      "@bread\n",
      "@meat\n",
      "@chease\n",
      "def sandwich():\n",
      "    print('###souce###')\n",
      "\n",
      "sandwich()"
     ],
     "language": "python",
     "metadata": {},
     "outputs": [
      {
       "output_type": "stream",
       "stream": "stdout",
       "text": [
        " <=========>\n",
        "<<<\u043c\u044f\u0441\u043e>>>\n",
        "---\u0441\u044b\u0440---\n",
        "###souce###\n",
        "<===========>\n"
       ]
      }
     ],
     "prompt_number": 27
    },
    {
     "cell_type": "markdown",
     "metadata": {},
     "source": [
      "## \u0412 \u0434\u0435\u043a\u043e\u0440\u0430\u0442\u043e\u0440\u044b \u043c\u043e\u0436\u043d\u043e \u043f\u0435\u0440\u0435\u0434\u0430\u0432\u0430\u0442\u044c \u043f\u0430\u0440\u0430\u043c\u0435\u0442\u0440\u044b. \u0422\u0430\u043a \u0436\u0435 \u043c\u043e\u0436\u043d\u043e \u0434\u0435\u043b\u0430\u0442\u044c \u0444\u0430\u0431\u0440\u0438\u043a\u0438 \u0434\u0435\u043a\u043e\u0440\u0430\u0442\u043e\u0440\u043e\u0432"
     ]
    },
    {
     "cell_type": "code",
     "collapsed": false,
     "input": [
      "def decorator_factory(inverse=False):\n",
      "    print('I am decarotaor factory')\n",
      "    def my_decorator(fun):\n",
      "        print('I am decorator')\n",
      "        def wrapper(arg1, arg2):\n",
      "            print(\"arg1 = %s, arg2 = %s\" % (arg1, arg2))\n",
      "            if inverse:\n",
      "                fun(arg2, arg1)\n",
      "            else:\n",
      "                fun(arg1, arg2)\n",
      "        return wrapper\n",
      "    return my_decorator\n",
      "\n",
      "@decorator_factory()\n",
      "def sub_function(x, y):\n",
      "    print(x - y)\n",
      "    return x - y\n",
      "\n",
      "@decorator_factory(inverse=True)\n",
      "def inversed_fub_function(x, y):\n",
      "    print(x - y)\n",
      "    return x - y\n",
      "\n",
      "sub_function(10, 20)\n",
      "sub_function(10, 2)\n",
      "inversed_fub_function(10, 20)\n",
      "inversed_fub_function(10, 2)"
     ],
     "language": "python",
     "metadata": {},
     "outputs": [
      {
       "output_type": "stream",
       "stream": "stdout",
       "text": [
        "I am decarotaor factory\n",
        "I am decorator\n",
        "I am decarotaor factory\n",
        "I am decorator\n",
        "arg1 = 10, arg2 = 20\n",
        "-10\n",
        "arg1 = 10, arg2 = 2\n",
        "8\n",
        "arg1 = 10, arg2 = 20\n",
        "10\n",
        "arg1 = 10, arg2 = 2\n",
        "-8\n"
       ]
      }
     ],
     "prompt_number": 33
    },
    {
     "cell_type": "code",
     "collapsed": false,
     "input": [],
     "language": "python",
     "metadata": {},
     "outputs": []
    }
   ],
   "metadata": {}
  }
 ]
}